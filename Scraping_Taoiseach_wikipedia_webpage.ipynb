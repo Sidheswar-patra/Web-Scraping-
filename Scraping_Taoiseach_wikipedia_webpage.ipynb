{
 "cells": [
  {
   "cell_type": "markdown",
   "metadata": {},
   "source": [
    "Assignment - Scraping Taoiseach wikipedia webpage"
   ]
  },
  {
   "cell_type": "markdown",
   "metadata": {},
   "source": [
    "### 1. Provide the commands required to create a new MariaDB database to store your scraped data. You are to further provide the commands which you used to define a new user-id and password to the database, as well the appropriate table schema needed to house your scraped web data."
   ]
  },
  {
   "cell_type": "markdown",
   "metadata": {},
   "source": [
    "sudo mysql\n",
    "\n",
    "create database TaoiseachDB;\n",
    "grant all on TaoiseachDB.* to 'Tuser' identified by 'Tpasswd';\n",
    "flush privileges;\n",
    "quit\n",
    "--Login to the TaoiseachDB\n",
    "mysql -u Tuser -p TaoiseachDB\n",
    "\n",
    "Create table Taoiseach(\n",
    "Name varchar(64),\n",
    "Constituency1 varchar(64),\n",
    "Constituency2 varchar(64),\n",
    "Term_Of_Office_Start date,\n",
    "Term_Of_Office_End date,\n",
    "Party varchar(64),\n",
    "Vice_President varchar(64),\n",
    "Dail int,\n",
    "Date_Of_Birth date)\n",
    "\n",
    "select * from Taoiseach;\n",
    "Describe Taoiseach;"
   ]
  },
  {
   "cell_type": "markdown",
   "metadata": {},
   "source": [
    "### 2. Write Python code which automatically scrapes the data you need from the above Wikipedia page and stores it into your database table(s)."
   ]
  },
  {
   "cell_type": "code",
   "execution_count": null,
   "metadata": {},
   "outputs": [],
   "source": [
    "import pandas as pd\n",
    "import numpy as np\n",
    "from pandas.io.html import read_html"
   ]
  },
  {
   "cell_type": "code",
   "execution_count": null,
   "metadata": {},
   "outputs": [],
   "source": [
    "page = \"https://en.wikipedia.org/wiki/Taoiseach\"\n",
    "tables = read_html(page, attrs = {'class':'wikitable'})\n",
    "print(\" {num} tables\".format(num = len(tables)))"
   ]
  },
  {
   "cell_type": "code",
   "execution_count": null,
   "metadata": {
    "scrolled": true
   },
   "outputs": [],
   "source": [
    "tables[0]"
   ]
  },
  {
   "cell_type": "code",
   "execution_count": null,
   "metadata": {},
   "outputs": [],
   "source": [
    "heading = tables[0].loc[1]\n",
    "heading"
   ]
  },
  {
   "cell_type": "code",
   "execution_count": null,
   "metadata": {},
   "outputs": [],
   "source": [
    "df = tables[0]\n",
    "df = df.loc[2:48]\n",
    "df.columns = heading\n",
    "df"
   ]
  },
  {
   "cell_type": "code",
   "execution_count": null,
   "metadata": {},
   "outputs": [],
   "source": [
    "df = df.drop(\"No.\", axis = \"columns\")\n",
    "df = df.drop(\"Portrait\", axis = \"columns\")\n",
    "df.columns = [\"Name\", \"Term_of_Office_Start\",\"Term_of_office_End\",\"Party\",\"Exec_CouncilComposition\",\n",
    "              \"Not_Required\",\"Not_Required\",\"Vice_President\",\"Dail\"]\n",
    "df = df.drop(\"Not_Required\", axis = \"columns\")\n",
    "df"
   ]
  },
  {
   "cell_type": "code",
   "execution_count": null,
   "metadata": {},
   "outputs": [],
   "source": [
    "df1 =  df[\"Name\"].str.split('(', expand = True)[1]\n",
    "Name1 = df[\"Name\"].str.split('(', expand = True)[0]\n",
    "df1.str.split('for ', expand = True)[1]\n",
    "Constituency1 = df1.str.split('for ', expand = True)[1]\n",
    "Constituency2 = df1.str.split('for ', expand = True)[2]\n",
    "Term_Of_Office_Start = df[\"Term_of_Office_Start\"].str.split('[', expand = True)[0]\n",
    "Term_Of_Office_End = df[\"Term_of_office_End\"].str.split('[', expand = True)[0]\n",
    "Dail_Elected = df[\"Dail\"].str.split('(', expand = True)[0]\n",
    "df = pd.concat([df, Name1, Constituency1, Constituency2,\n",
    "           Term_Of_Office_Start, Term_Of_Office_End, Dail_Elected ], axis = 1)\n",
    "df"
   ]
  },
  {
   "cell_type": "code",
   "execution_count": null,
   "metadata": {},
   "outputs": [],
   "source": [
    "df = df.drop(\"Name\", axis = \"columns\")\n",
    "df = df.drop(\"Term_of_Office_Start\", axis = 1)\n",
    "df = df.drop(\"Term_of_office_End\", axis = 1)\n",
    "df = df.drop(\"Dail\", axis = 1)\n",
    "df = df.drop(\"Exec_CouncilComposition\", axis = 1)\n",
    "df"
   ]
  },
  {
   "cell_type": "code",
   "execution_count": null,
   "metadata": {
    "scrolled": true
   },
   "outputs": [],
   "source": [
    "df.columns = [\"Party\", \"Vice_President\", \"Name\",\n",
    "             \"Constituency1\", \"Constituency2\", \"Term_Of_Office_Start\", \"Term_Of_Office_End\", \"Dail\"]\n",
    "df = df.drop([10,11])\n",
    "df[\"Constituency1\"] = df[\"Constituency1\"].str.split(\"until\", expand = True)[0]\n",
    "df[\"Constituency2\"] = df[\"Constituency2\"].str.split(\"from\", expand = True)[0]\n",
    "df[\"Term_Of_Office_Start\"] = pd.to_datetime(df[\"Term_Of_Office_Start\"], errors=\"coerce\")\n",
    "df[\"Term_Of_Office_End\"] = pd.to_datetime(df[\"Term_Of_Office_End\"], errors=\"coerce\")\n",
    "df = df[[\"Name\", \"Constituency1\", \"Constituency2\", \"Term_Of_Office_Start\", \"Term_Of_Office_End\",\n",
    "   \"Party\", \"Vice_President\", \"Dail\"]]\n",
    "df"
   ]
  },
  {
   "cell_type": "code",
   "execution_count": null,
   "metadata": {},
   "outputs": [],
   "source": [
    "df.dtypes"
   ]
  },
  {
   "cell_type": "code",
   "execution_count": null,
   "metadata": {},
   "outputs": [],
   "source": [
    "Url_Initial = \"https://en.wikipedia.org/wiki/\"\n",
    "Url_Person = df[\"Name\"]\n",
    "Url_Total = Url_Initial+Url_Person\n",
    "len(Url_Total)"
   ]
  },
  {
   "cell_type": "code",
   "execution_count": null,
   "metadata": {},
   "outputs": [],
   "source": [
    "from bs4 import BeautifulSoup\n",
    "import requests"
   ]
  },
  {
   "cell_type": "code",
   "execution_count": null,
   "metadata": {},
   "outputs": [],
   "source": [
    "DOB_List = []\n",
    "def scrape_DOB(url):\n",
    "    response = requests.get(url)\n",
    "    r = response.text\n",
    "    soup = BeautifulSoup(r,\"lxml\")\n",
    "    h1 = soup.find(attrs={\"class\":\"bday\"})\n",
    "    DOB_List.append(h1.text)\n",
    "for url in Url_Total:\n",
    "    scrape_DOB(url)\n",
    "print(DOB_List) "
   ]
  },
  {
   "cell_type": "code",
   "execution_count": null,
   "metadata": {
    "scrolled": true
   },
   "outputs": [],
   "source": [
    "col_dob = pd.DataFrame(DOB_List)\n",
    "df = df.reset_index()\n",
    "df = pd.concat([df, col_dob], axis=1)\n",
    "df = df.drop(\"index\", axis = 1)\n",
    "df.columns = [\"Name\", \"Constituency1\", \"Constituency2\", \"Term_Of_Office_Start\", \"Term_Of_Office_End\",\n",
    "   \"Party\", \"Vice_President\", \"Dail\", \"Date_Of_Birth\"]\n",
    "df[\"Date_Of_Birth\"] = pd.to_datetime(df[\"Date_Of_Birth\"], errors=\"coerce\")\n",
    "df"
   ]
  },
  {
   "cell_type": "code",
   "execution_count": null,
   "metadata": {},
   "outputs": [],
   "source": [
    "df_list = df.values.tolist()\n",
    "df_list"
   ]
  },
  {
   "cell_type": "code",
   "execution_count": null,
   "metadata": {},
   "outputs": [],
   "source": [
    "df.info()"
   ]
  },
  {
   "cell_type": "code",
   "execution_count": null,
   "metadata": {},
   "outputs": [],
   "source": [
    "import DBcm\n",
    "config = {\n",
    "    'user': 'Tuser',\n",
    "    'password': 'Tpasswd',\n",
    "    'host': 'localhost',\n",
    "    'database': 'TaoiseachDB',\n",
    "}"
   ]
  },
  {
   "cell_type": "code",
   "execution_count": null,
   "metadata": {},
   "outputs": [],
   "source": [
    "with DBcm.UseDatabase(config) as cursor:\n",
    "    SQL = \"insert into Taoiseach (Name, Constituency1, Constituency2, Term_Of_Office_Start, Term_Of_Office_End, Party, Vice_President, Dail, Date_Of_Birth) values (%s, %s, %s, %s, %s, %s, %s, %s, %s)\"\n",
    "    cursor.executemany(SQL, df_list)"
   ]
  },
  {
   "cell_type": "markdown",
   "metadata": {},
   "source": [
    "### Question-3"
   ]
  },
  {
   "cell_type": "raw",
   "metadata": {},
   "source": [
    "I assumed the Term_of_Office_End for Leo Varadkar is currentdate to make the calculations as the value is Incumbent and not a date which affects the queries resultset.\n",
    "Query used- \n",
    "Update Taoiseach\n",
    "set Term_Of_Office_End = curdate()\n",
    "where Term_Of_Office_End = '0001-01-01';"
   ]
  },
  {
   "cell_type": "markdown",
   "metadata": {},
   "source": [
    "#### (a) Provide a list of constituencies in Ireland which have produced a Taoiseach."
   ]
  },
  {
   "cell_type": "markdown",
   "metadata": {},
   "source": [
    "select distinct Constituency1  as All_Constituencies from Taoiseach\n",
    "union\n",
    "select distinct Constituency2 from Taoiseach where Constituency2 is not null;"
   ]
  },
  {
   "cell_type": "markdown",
   "metadata": {},
   "source": [
    "#### (b) Which political party has produced the most individual Taoiseachs?"
   ]
  },
  {
   "cell_type": "markdown",
   "metadata": {},
   "source": [
    "Select count(distinct Name) as No_Of_President, Party from Taoiseach group by Party order by No_Of_President desc limit 1;"
   ]
  },
  {
   "cell_type": "markdown",
   "metadata": {},
   "source": [
    "#### (c) Provide the list of names for those politicians who previously held the position of “Vice President” or “Tánaiste” prior to becoming Taoiseach."
   ]
  },
  {
   "cell_type": "markdown",
   "metadata": {},
   "source": [
    "select distinct Name from Taoiseach where Name in (select distinct Vice_President from Taoiseach);"
   ]
  },
  {
   "cell_type": "markdown",
   "metadata": {},
   "source": [
    "#### (d) Which political party held the office of Taoiseach for the longest amount of overall time, and for how long (in years, months, and days)?"
   ]
  },
  {
   "cell_type": "markdown",
   "metadata": {},
   "source": [
    "select sum(distinct datediff(Term_Of_Office_End, Term_Of_Office_Start)) as Total_Time_Days, Party\n",
    "from Taoiseach group by Party order by Total_Time_Days desc limit 1;"
   ]
  },
  {
   "cell_type": "markdown",
   "metadata": {},
   "source": [
    "#### (e) Which individual politician held the office of Taoiseach for the longest amount of uninterrupted time, and for how long (in years, months, and days)?"
   ]
  },
  {
   "cell_type": "markdown",
   "metadata": {},
   "source": [
    "select date_format(FROM_DAYS(datediff(Term_Of_Office_End,Term_Of_Office_Start)), '%Y-%m-%d') as Days, Name \n",
    "from Taoiseach group by Name, Days order by Days desc limit 1;"
   ]
  },
  {
   "cell_type": "markdown",
   "metadata": {},
   "source": [
    "#### (f) Which individual politician held the office of Taoiseach for the shortest amount of time, and for how long (in years, months, and days)?"
   ]
  },
  {
   "cell_type": "markdown",
   "metadata": {},
   "source": [
    "select Name,datediff(Term_Of_Office_End, Term_Of_Office_Start) as Time_Days \n",
    "from Taoiseach \n",
    "order by Time_Days asc limit 1;"
   ]
  },
  {
   "cell_type": "markdown",
   "metadata": {},
   "source": [
    "#### (g) Which political party has held the office of Taoiseach for the largest number of Dáils?"
   ]
  },
  {
   "cell_type": "markdown",
   "metadata": {},
   "source": [
    "Select count(distinct Dail) as No_of_Dial, Party from Taoiseach group by Party order by No_of_Dial desc limit 1;"
   ]
  },
  {
   "cell_type": "markdown",
   "metadata": {},
   "source": [
    "#### (h) Which individual politician has held the office of Taoiseach for the most number of Dáils?"
   ]
  },
  {
   "cell_type": "markdown",
   "metadata": {},
   "source": [
    "Select  count( distinct Dail) as No_Of_Dails, Name from Taoiseach group by Name order by No_Of_Dails desc limit 1;"
   ]
  },
  {
   "cell_type": "markdown",
   "metadata": {},
   "source": [
    "#### (i) What age was each Taoiseach on the day they assumed office?"
   ]
  },
  {
   "cell_type": "markdown",
   "metadata": {},
   "source": [
    "select distinct Name, Floor(datediff(Term_Of_Office_Start, Date_Of_Birth)/365) as Age_Joined_Office from Taoiseach order by Age_Joined_Office;"
   ]
  },
  {
   "cell_type": "markdown",
   "metadata": {},
   "source": [
    "#### (j) On the last day of their term of office, which politician was the oldest?"
   ]
  },
  {
   "cell_type": "markdown",
   "metadata": {},
   "source": [
    "select distinct Name, date_format(FROM_DAYS(datediff(Term_Of_Office_End, Date_Of_Birth)), '%Y-%m-%d') as Age_YearMonthDays \n",
    "from Taoiseach order by Age_YearMonthDays Desc limit 1;"
   ]
  },
  {
   "cell_type": "markdown",
   "metadata": {},
   "source": [
    "#### (k) In your view, and based on statistics calculated from your scraped data, which Irish political party is the most successful? Show and describe your calculations."
   ]
  },
  {
   "cell_type": "markdown",
   "metadata": {},
   "source": [
    "Through the queries below, we can see the following:\n",
    "\n",
    "select count(distinct Name) No_Of_President_In_Party, Party from Taoiseach group by party order by No_Of_President_In_Party desc;\n",
    "-- We can see that \"Fianna Fáil\" party had ruled with 7 Taoiseach till now. \n",
    "\n",
    "select count(distinct dail) No_Dails_Formed, Party from Taoiseach group by party order by No_Dails_Formed desc;\n",
    "-- We can see that \"Fianna Fail\" party had 19 Dails formed in their ruling time. \n",
    "\n",
    "select count(distinct Vice_President) as No_Of_VicePresident,Party from Taoiseach group by Party order by No_Of_VicePresident desc;\n",
    "-- We can see that \"Fianna Fail\" party had 15 Vice_President till now.\n",
    "\n",
    "select sum(datediff(Term_Of_Office_End, Term_Of_Office_Start)) as Total_Time_Days, Party\n",
    "from Taoiseach group by Party order by Total_Time_Days desc limit 1;\n",
    "-- We can see that \"Fianna Fail\" party has rules over Ireland for the longest duration till now which is \n",
    "    61 years, 1 months and 13 days. So through the above data \"Fianna Fail\" party is most successfull."
   ]
  }
 ],
 "metadata": {
  "kernelspec": {
   "display_name": "Python 3",
   "language": "python",
   "name": "python3"
  },
  "language_info": {
   "codemirror_mode": {
    "name": "ipython",
    "version": 3
   },
   "file_extension": ".py",
   "mimetype": "text/x-python",
   "name": "python",
   "nbconvert_exporter": "python",
   "pygments_lexer": "ipython3",
   "version": "3.7.3"
  }
 },
 "nbformat": 4,
 "nbformat_minor": 2
}
